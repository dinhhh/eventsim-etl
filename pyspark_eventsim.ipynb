{
  "nbformat": 4,
  "nbformat_minor": 0,
  "metadata": {
    "colab": {
      "provenance": []
    },
    "kernelspec": {
      "name": "python3",
      "display_name": "Python 3"
    },
    "language_info": {
      "name": "python"
    }
  },
  "cells": [
    {
      "cell_type": "code",
      "execution_count": 1,
      "metadata": {
        "colab": {
          "base_uri": "https://localhost:8080/"
        },
        "id": "Llt2_iNfGr0_",
        "outputId": "80c5f5b5-e75f-40c3-86c6-463b846c2eca"
      },
      "outputs": [
        {
          "output_type": "stream",
          "name": "stdout",
          "text": [
            "Looking in indexes: https://pypi.org/simple, https://us-python.pkg.dev/colab-wheels/public/simple/\n",
            "Collecting pyspark\n",
            "  Downloading pyspark-3.4.0.tar.gz (310.8 MB)\n",
            "\u001b[2K     \u001b[90m━━━━━━━━━━━━━━━━━━━━━━━━━━━━━━━━━━━━━━━\u001b[0m \u001b[32m310.8/310.8 MB\u001b[0m \u001b[31m4.7 MB/s\u001b[0m eta \u001b[36m0:00:00\u001b[0m\n",
            "\u001b[?25h  Preparing metadata (setup.py) ... \u001b[?25l\u001b[?25hdone\n",
            "Requirement already satisfied: py4j==0.10.9.7 in /usr/local/lib/python3.10/dist-packages (from pyspark) (0.10.9.7)\n",
            "Building wheels for collected packages: pyspark\n",
            "  Building wheel for pyspark (setup.py) ... \u001b[?25l\u001b[?25hdone\n",
            "  Created wheel for pyspark: filename=pyspark-3.4.0-py2.py3-none-any.whl size=311317130 sha256=9e915c4bf1fe4e110ba5b940e844ca597d5bc526bdfc4627bec57565464d8427\n",
            "  Stored in directory: /root/.cache/pip/wheels/7b/1b/4b/3363a1d04368e7ff0d408e57ff57966fcdf00583774e761327\n",
            "Successfully built pyspark\n",
            "Installing collected packages: pyspark\n",
            "Successfully installed pyspark-3.4.0\n"
          ]
        }
      ],
      "source": [
        "pip install pyspark"
      ]
    },
    {
      "cell_type": "code",
      "source": [
        "import pyspark\n",
        "\n",
        "sc = pyspark.SparkContext()\n",
        "sqlContext = pyspark.sql.SQLContext(sc)"
      ],
      "metadata": {
        "id": "cHINnBefNEo5",
        "colab": {
          "base_uri": "https://localhost:8080/"
        },
        "outputId": "2efef002-831f-42c6-cf3d-b30f7dcda8a0"
      },
      "execution_count": 2,
      "outputs": [
        {
          "output_type": "stream",
          "name": "stderr",
          "text": [
            "/usr/local/lib/python3.10/dist-packages/pyspark/sql/context.py:112: FutureWarning: Deprecated in 3.0.0. Use SparkSession.builder.getOrCreate() instead.\n",
            "  warnings.warn(\n"
          ]
        }
      ]
    },
    {
      "cell_type": "code",
      "source": [
        "from google.colab import drive\n",
        "drive.mount('/content/drive')\n"
      ],
      "metadata": {
        "colab": {
          "base_uri": "https://localhost:8080/"
        },
        "id": "80-2BDt7u-JF",
        "outputId": "4cb20cd8-2bb1-49af-8af3-c5adc9ffe8f2"
      },
      "execution_count": 3,
      "outputs": [
        {
          "output_type": "stream",
          "name": "stdout",
          "text": [
            "Mounted at /content/drive\n"
          ]
        }
      ]
    },
    {
      "cell_type": "code",
      "source": [
        "!ls '/content/drive/My Drive' | grep parquet"
      ],
      "metadata": {
        "colab": {
          "base_uri": "https://localhost:8080/"
        },
        "id": "v4tPxs6lqXGj",
        "outputId": "f067e572-20fa-441c-97f7-5ad5fc4a18fc"
      },
      "execution_count": 4,
      "outputs": [
        {
          "output_type": "stream",
          "name": "stdout",
          "text": [
            "20-05-2023-data.parquet\n"
          ]
        }
      ]
    },
    {
      "cell_type": "code",
      "source": [
        "parquet_file_path = '/content/drive/My Drive/20-05-2023-data.parquet'\n",
        "df = sqlContext.read.parquet(parquet_file_path)"
      ],
      "metadata": {
        "id": "ga1IvMTqqdP-"
      },
      "execution_count": 5,
      "outputs": []
    },
    {
      "cell_type": "code",
      "source": [
        "df.show()"
      ],
      "metadata": {
        "colab": {
          "base_uri": "https://localhost:8080/"
        },
        "id": "Xc70NodIr47z",
        "outputId": "13f6eff2-cfab-403f-de5b-fd20131635c2"
      },
      "execution_count": 10,
      "outputs": [
        {
          "output_type": "stream",
          "name": "stdout",
          "text": [
            "+--------------------+---------+---------+------+-------------+--------+---------+-----+--------------------+------+--------+-------------+---------+--------------------+------+-------------+--------------------+------+\n",
            "|              artist|     auth|firstName|gender|itemInSession|lastName|   length|level|            location|method|    page| registration|sessionId|                song|status|           ts|           userAgent|userId|\n",
            "+--------------------+---------+---------+------+-------------+--------+---------+-----+--------------------+------+--------+-------------+---------+--------------------+------+-------------+--------------------+------+\n",
            "|           Green Day|Logged In|  Herbert|     M|            1|    Long|547.44771| free|Riverside-San Ber...|   PUT|NextSong|1633337071769|      226|Jesus Of Suburbia...|   200|1653629820769|\"Mozilla/5.0 (Mac...|    33|\n",
            "|Emil Gilels/Orche...|Logged In|    Arjun|     M|           18|   Reyes|375.19628| paid|    Fayetteville, NC|   PUT|NextSong|1641612488769|      534|Piano Concerto No...|   200|1654852909769|\"Mozilla/5.0 (Mac...|    42|\n",
            "|Barry Tuckwell/Ac...|Logged In|    Rylan|     M|            4|  George|277.15873| free|Birmingham-Hoover...|   PUT|NextSong|1650629495769|      194|Horn Concerto No....|   200|1653481511769|\"Mozilla/5.0 (Mac...|    16|\n",
            "|Barry Tuckwell/Ac...|Logged In|    Arjun|     M|           41|   Reyes|277.15873| paid|    Fayetteville, NC|   PUT|NextSong|1641612488769|      161|Horn Concerto No....|   200|1653412899769|\"Mozilla/5.0 (Mac...|    42|\n",
            "|Barry Tuckwell/Ac...|Logged In|    Arjun|     M|           89|   Reyes|277.15873| paid|    Fayetteville, NC|   PUT|NextSong|1641612488769|      841|Horn Concerto No....|   200|1656128444769|\"Mozilla/5.0 (Mac...|    42|\n",
            "|Barry Tuckwell/Ac...|Logged In|    Arjun|     M|            6|   Reyes|277.15873| paid|    Fayetteville, NC|   PUT|NextSong|1641612488769|      957|Horn Concerto No....|   200|1656560790769|\"Mozilla/5.0 (Mac...|    42|\n",
            "|Barry Tuckwell/Ac...|Logged In|    Jahan|     M|            7|  Parker|277.15873| paid| Rio Grande City, TX|   PUT|NextSong|1642390759769|      535|Horn Concerto No....|   200|1654935126769|\"Mozilla/5.0 (Win...|    31|\n",
            "|Barry Tuckwell/Ac...|Logged In|  Matthew|     M|           12|   Jones|277.15873| paid|Janesville-Beloit...|   PUT|NextSong|1651906549769|      677|Horn Concerto No....|   200|1655735788769|\"Mozilla/5.0 (Win...|    37|\n",
            "|Barry Tuckwell/Ac...|Logged In|   Carter|     M|           13| Trevino|277.15873| paid|Bridgeport-Stamfo...|   PUT|NextSong|1653236619769|      536|Horn Concerto No....|   200|1654791274769|Mozilla/5.0 (Maci...|    52|\n",
            "|Barry Tuckwell/Ac...|Logged In|   Carter|     M|           23| Trevino|277.15873| paid|Bridgeport-Stamfo...|   PUT|NextSong|1653236619769|      756|Horn Concerto No....|   200|1655766487769|Mozilla/5.0 (Maci...|    52|\n",
            "|Barry Tuckwell/Ac...|Logged In|   Carter|     M|           31| Trevino|277.15873| paid|Bridgeport-Stamfo...|   PUT|NextSong|1653236619769|     1154|Horn Concerto No....|   200|1657489013769|Mozilla/5.0 (Maci...|    52|\n",
            "|Barry Tuckwell/Ac...|Logged In|   Carter|     M|           47| Trevino|277.15873| paid|Bridgeport-Stamfo...|   PUT|NextSong|1653236619769|      536|Horn Concerto No....|   200|1654798829769|Mozilla/5.0 (Maci...|    52|\n",
            "|Barry Tuckwell/Ac...|Logged In|      Joe|     M|           60|  Peters|277.15873| paid|        Columbus, OH|   PUT|NextSong|1649540092769|     1055|Horn Concerto No....|   200|1657124389769|\"Mozilla/5.0 (Win...|    18|\n",
            "|Barry Tuckwell/Ac...|Logged In|      Joe|     M|           30|  Peters|277.15873| paid|        Columbus, OH|   PUT|NextSong|1649540092769|     1055|Horn Concerto No....|   200|1657117498769|\"Mozilla/5.0 (Win...|    18|\n",
            "|Barry Tuckwell/Ac...|Logged In|      Joe|     M|            2|  Peters|277.15873| paid|        Columbus, OH|   PUT|NextSong|1649540092769|      548|Horn Concerto No....|   200|1654850879769|\"Mozilla/5.0 (Win...|    18|\n",
            "|Barry Tuckwell/Ac...|Logged In|     Liam|     M|           40|   Weber|277.15873| paid|         Clinton, IA|   PUT|NextSong|1651796691769|      782|Horn Concerto No....|   200|1656077980769|\"Mozilla/5.0 (Win...|    12|\n",
            "|Major Organ And T...|Logged In|   Derick|     M|            8|  Larson|129.77587| free|Los Angeles-Long ...|   PUT|NextSong|1648849762769|      576|Water Dripping On...|   200|1654956018769|\"Mozilla/5.0 (iPh...|    44|\n",
            "|Barry Tuckwell/Ac...|Logged In|     Liam|     M|            2|   Weber|277.15873| paid|         Clinton, IA|   PUT|NextSong|1651796691769|      401|Horn Concerto No....|   200|1654484578769|\"Mozilla/5.0 (Win...|    12|\n",
            "|Claudio Abbado/Em...|Logged In|      Joe|     M|            6|  Peters|354.35057| paid|        Columbus, OH|   PUT|NextSong|1649540092769|      881|Concerto for Flut...|   200|1656370614769|\"Mozilla/5.0 (Win...|    18|\n",
            "|Jorge Drexler / J...|Logged In|    Arjun|     M|            8|   Reyes|194.32444| paid|    Fayetteville, NC|   PUT|NextSong|1641612488769|      957|Al otro lado del ...|   200|1656561299769|\"Mozilla/5.0 (Mac...|    42|\n",
            "+--------------------+---------+---------+------+-------------+--------+---------+-----+--------------------+------+--------+-------------+---------+--------------------+------+-------------+--------------------+------+\n",
            "only showing top 20 rows\n",
            "\n"
          ]
        }
      ]
    },
    {
      "cell_type": "code",
      "source": [
        "df.count()"
      ],
      "metadata": {
        "colab": {
          "base_uri": "https://localhost:8080/"
        },
        "id": "TrYFrR1zujkl",
        "outputId": "aa4bf905-b607-4675-bcec-2b2f8fa2adf4"
      },
      "execution_count": 6,
      "outputs": [
        {
          "output_type": "execute_result",
          "data": {
            "text/plain": [
              "8484"
            ]
          },
          "metadata": {},
          "execution_count": 6
        }
      ]
    },
    {
      "cell_type": "code",
      "source": [
        "# tìm top 5 bài hát (song) đang được nghe nhiều nhất\n",
        "# tính bằng tổng thời gian bài hát đó được nghe (length)\n",
        "song_length_df = df[[\"song\", \"length\"]].groupby('song').sum()\n",
        "song_length_df.sort(['sum(length)'], ascending=False).head(5)"
      ],
      "metadata": {
        "colab": {
          "base_uri": "https://localhost:8080/"
        },
        "id": "OMeBIW6CsBFc",
        "outputId": "fe1ebbac-626f-4435-e336-163860dac255"
      },
      "execution_count": 19,
      "outputs": [
        {
          "output_type": "execute_result",
          "data": {
            "text/plain": [
              "[Row(song='Sehr kosmisch', sum(length)=12459.77269),\n",
              " Row(song=\"You're The One\", sum(length)=8136.4482000000025),\n",
              " Row(song='Undo', sum(length)=6274.39518),\n",
              " Row(song='240 Years Before Your Time', sum(length)=5601.0692),\n",
              " Row(song=\"I CAN'T GET STARTED\", sum(length)=4971.3587)]"
            ]
          },
          "metadata": {},
          "execution_count": 19
        }
      ]
    },
    {
      "cell_type": "code",
      "source": [
        "# phân tích thời gian sử dụng app vào cuôi tuần theo giới tính\n",
        "# từ ts (timstamp) và gender\n",
        "# output sẽ có dạng\n",
        "# gender    total_time_in_week_day  total_time_in_weekend\n",
        "# male      12345                   6789\n",
        "# female    24659                   65214\n",
        "import pandas as pd\n",
        "from datetime import datetime\n",
        "from pyspark.sql.functions import udf\n",
        "from pyspark.sql.types import TimestampType, IntegerType, BooleanType\n",
        "\n",
        "@udf(BooleanType())\n",
        "def is_week_day(ts):\n",
        "    print(ts)\n",
        "    ts_int = int (ts / 1000)\n",
        "    return datetime.fromtimestamp(ts_int).weekday() < 5\n",
        "\n",
        "week_day_time = df[['gender', 'length', 'ts']] \\\n",
        "    .withColumn('is_week_day', is_week_day(df.ts.cast('long')))\n",
        "week_day_time.createOrReplaceTempView(\"week_day_time\")\n",
        "sqlContext.sql(\"select gender, is_week_day, sum(length) from week_day_time where gender != null group by is_week_day, gender\").show()\n",
        "\n"
      ],
      "metadata": {
        "colab": {
          "base_uri": "https://localhost:8080/"
        },
        "id": "lqcS99AOwher",
        "outputId": "ade80a76-ef5f-4fa3-c516-a0c049af407e"
      },
      "execution_count": 115,
      "outputs": [
        {
          "output_type": "stream",
          "name": "stdout",
          "text": [
            "+------+-----------+------------------+\n",
            "|gender|is_week_day|       sum(length)|\n",
            "+------+-----------+------------------+\n",
            "|     F|       true|320953.91722000006|\n",
            "|     M|      false|247653.92401999992|\n",
            "|     M|       true|1123211.9636799989|\n",
            "|     F|      false| 75279.82385999999|\n",
            "|  null|       true|               0.0|\n",
            "|  null|      false|               0.0|\n",
            "+------+-----------+------------------+\n",
            "\n"
          ]
        }
      ]
    }
  ]
}